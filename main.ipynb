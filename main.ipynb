{
 "cells": [
  {
   "cell_type": "code",
   "execution_count": 90,
   "metadata": {},
   "outputs": [],
   "source": [
    "import pandas as pd\n",
    "import matplotlib.pyplot as plt"
   ]
  },
  {
   "cell_type": "code",
   "execution_count": 91,
   "metadata": {},
   "outputs": [
    {
     "data": {
      "text/html": [
       "<div>\n",
       "<style scoped>\n",
       "    .dataframe tbody tr th:only-of-type {\n",
       "        vertical-align: middle;\n",
       "    }\n",
       "\n",
       "    .dataframe tbody tr th {\n",
       "        vertical-align: top;\n",
       "    }\n",
       "\n",
       "    .dataframe thead th {\n",
       "        text-align: right;\n",
       "    }\n",
       "</style>\n",
       "<table border=\"1\" class=\"dataframe\">\n",
       "  <thead>\n",
       "    <tr style=\"text-align: right;\">\n",
       "      <th></th>\n",
       "      <th>Year</th>\n",
       "      <th>Month</th>\n",
       "      <th>DOMESTIC</th>\n",
       "      <th>INTERNATIONAL</th>\n",
       "      <th>TOTAL</th>\n",
       "    </tr>\n",
       "  </thead>\n",
       "  <tbody>\n",
       "    <tr>\n",
       "      <th>0</th>\n",
       "      <td>2002</td>\n",
       "      <td>10</td>\n",
       "      <td>48054917</td>\n",
       "      <td>9578435</td>\n",
       "      <td>57633352</td>\n",
       "    </tr>\n",
       "    <tr>\n",
       "      <th>1</th>\n",
       "      <td>2002</td>\n",
       "      <td>11</td>\n",
       "      <td>44850246</td>\n",
       "      <td>9016535</td>\n",
       "      <td>53866781</td>\n",
       "    </tr>\n",
       "    <tr>\n",
       "      <th>2</th>\n",
       "      <td>2002</td>\n",
       "      <td>12</td>\n",
       "      <td>49684353</td>\n",
       "      <td>10038794</td>\n",
       "      <td>59723147</td>\n",
       "    </tr>\n",
       "    <tr>\n",
       "      <th>3</th>\n",
       "      <td>2003</td>\n",
       "      <td>1</td>\n",
       "      <td>43032450</td>\n",
       "      <td>9726436</td>\n",
       "      <td>52758886</td>\n",
       "    </tr>\n",
       "    <tr>\n",
       "      <th>4</th>\n",
       "      <td>2003</td>\n",
       "      <td>2</td>\n",
       "      <td>41166780</td>\n",
       "      <td>8283372</td>\n",
       "      <td>49450152</td>\n",
       "    </tr>\n",
       "  </tbody>\n",
       "</table>\n",
       "</div>"
      ],
      "text/plain": [
       "   Year  Month  DOMESTIC  INTERNATIONAL     TOTAL\n",
       "0  2002     10  48054917        9578435  57633352\n",
       "1  2002     11  44850246        9016535  53866781\n",
       "2  2002     12  49684353       10038794  59723147\n",
       "3  2003      1  43032450        9726436  52758886\n",
       "4  2003      2  41166780        8283372  49450152"
      ]
     },
     "execution_count": 91,
     "metadata": {},
     "output_type": "execute_result"
    }
   ],
   "source": [
    "df = pd.read_csv('Passengers.csv', usecols = ['Year','Month','DOMESTIC','INTERNATIONAL','TOTAL'])\n",
    "df.head()"
   ]
  },
  {
   "cell_type": "code",
   "execution_count": 92,
   "metadata": {},
   "outputs": [
    {
     "data": {
      "text/html": [
       "<div>\n",
       "<style scoped>\n",
       "    .dataframe tbody tr th:only-of-type {\n",
       "        vertical-align: middle;\n",
       "    }\n",
       "\n",
       "    .dataframe tbody tr th {\n",
       "        vertical-align: top;\n",
       "    }\n",
       "\n",
       "    .dataframe thead th {\n",
       "        text-align: right;\n",
       "    }\n",
       "</style>\n",
       "<table border=\"1\" class=\"dataframe\">\n",
       "  <thead>\n",
       "    <tr style=\"text-align: right;\">\n",
       "      <th></th>\n",
       "      <th>Year</th>\n",
       "      <th>Month</th>\n",
       "      <th>DOMESTIC</th>\n",
       "      <th>INTERNATIONAL</th>\n",
       "      <th>TOTAL</th>\n",
       "    </tr>\n",
       "  </thead>\n",
       "  <tbody>\n",
       "    <tr>\n",
       "      <th>count</th>\n",
       "      <td>248.000000</td>\n",
       "      <td>248.000000</td>\n",
       "      <td>2.480000e+02</td>\n",
       "      <td>2.480000e+02</td>\n",
       "      <td>2.480000e+02</td>\n",
       "    </tr>\n",
       "    <tr>\n",
       "      <th>mean</th>\n",
       "      <td>2012.584677</td>\n",
       "      <td>6.483871</td>\n",
       "      <td>5.484616e+07</td>\n",
       "      <td>1.389013e+07</td>\n",
       "      <td>6.873628e+07</td>\n",
       "    </tr>\n",
       "    <tr>\n",
       "      <th>std</th>\n",
       "      <td>5.989269</td>\n",
       "      <td>3.481551</td>\n",
       "      <td>1.031117e+07</td>\n",
       "      <td>4.283557e+06</td>\n",
       "      <td>1.420381e+07</td>\n",
       "    </tr>\n",
       "    <tr>\n",
       "      <th>min</th>\n",
       "      <td>2002.000000</td>\n",
       "      <td>1.000000</td>\n",
       "      <td>2.879712e+06</td>\n",
       "      <td>3.729150e+05</td>\n",
       "      <td>3.281041e+06</td>\n",
       "    </tr>\n",
       "    <tr>\n",
       "      <th>25%</th>\n",
       "      <td>2007.000000</td>\n",
       "      <td>3.000000</td>\n",
       "      <td>5.048308e+07</td>\n",
       "      <td>1.167299e+07</td>\n",
       "      <td>6.272726e+07</td>\n",
       "    </tr>\n",
       "    <tr>\n",
       "      <th>50%</th>\n",
       "      <td>2013.000000</td>\n",
       "      <td>6.000000</td>\n",
       "      <td>5.586459e+07</td>\n",
       "      <td>1.369708e+07</td>\n",
       "      <td>6.977755e+07</td>\n",
       "    </tr>\n",
       "    <tr>\n",
       "      <th>75%</th>\n",
       "      <td>2018.000000</td>\n",
       "      <td>10.000000</td>\n",
       "      <td>6.048862e+07</td>\n",
       "      <td>1.660171e+07</td>\n",
       "      <td>7.690114e+07</td>\n",
       "    </tr>\n",
       "    <tr>\n",
       "      <th>max</th>\n",
       "      <td>2023.000000</td>\n",
       "      <td>12.000000</td>\n",
       "      <td>7.528192e+07</td>\n",
       "      <td>2.390786e+07</td>\n",
       "      <td>9.918978e+07</td>\n",
       "    </tr>\n",
       "  </tbody>\n",
       "</table>\n",
       "</div>"
      ],
      "text/plain": [
       "              Year       Month      DOMESTIC  INTERNATIONAL         TOTAL\n",
       "count   248.000000  248.000000  2.480000e+02   2.480000e+02  2.480000e+02\n",
       "mean   2012.584677    6.483871  5.484616e+07   1.389013e+07  6.873628e+07\n",
       "std       5.989269    3.481551  1.031117e+07   4.283557e+06  1.420381e+07\n",
       "min    2002.000000    1.000000  2.879712e+06   3.729150e+05  3.281041e+06\n",
       "25%    2007.000000    3.000000  5.048308e+07   1.167299e+07  6.272726e+07\n",
       "50%    2013.000000    6.000000  5.586459e+07   1.369708e+07  6.977755e+07\n",
       "75%    2018.000000   10.000000  6.048862e+07   1.660171e+07  7.690114e+07\n",
       "max    2023.000000   12.000000  7.528192e+07   2.390786e+07  9.918978e+07"
      ]
     },
     "execution_count": 92,
     "metadata": {},
     "output_type": "execute_result"
    }
   ],
   "source": [
    "df.describe()"
   ]
  },
  {
   "cell_type": "code",
   "execution_count": 93,
   "metadata": {},
   "outputs": [
    {
     "data": {
      "text/plain": [
       "(248, 5)"
      ]
     },
     "execution_count": 93,
     "metadata": {},
     "output_type": "execute_result"
    }
   ],
   "source": [
    "df.shape"
   ]
  },
  {
   "cell_type": "code",
   "execution_count": 94,
   "metadata": {},
   "outputs": [
    {
     "name": "stdout",
     "output_type": "stream",
     "text": [
      "<class 'pandas.core.frame.DataFrame'>\n",
      "RangeIndex: 248 entries, 0 to 247\n",
      "Data columns (total 5 columns):\n",
      " #   Column         Non-Null Count  Dtype\n",
      "---  ------         --------------  -----\n",
      " 0   Year           248 non-null    int64\n",
      " 1   Month          248 non-null    int64\n",
      " 2   DOMESTIC       248 non-null    int64\n",
      " 3   INTERNATIONAL  248 non-null    int64\n",
      " 4   TOTAL          248 non-null    int64\n",
      "dtypes: int64(5)\n",
      "memory usage: 9.8 KB\n"
     ]
    }
   ],
   "source": [
    "df.info()\n"
   ]
  },
  {
   "cell_type": "code",
   "execution_count": 95,
   "metadata": {},
   "outputs": [
    {
     "data": {
      "text/html": [
       "<div>\n",
       "<style scoped>\n",
       "    .dataframe tbody tr th:only-of-type {\n",
       "        vertical-align: middle;\n",
       "    }\n",
       "\n",
       "    .dataframe tbody tr th {\n",
       "        vertical-align: top;\n",
       "    }\n",
       "\n",
       "    .dataframe thead th {\n",
       "        text-align: right;\n",
       "    }\n",
       "</style>\n",
       "<table border=\"1\" class=\"dataframe\">\n",
       "  <thead>\n",
       "    <tr style=\"text-align: right;\">\n",
       "      <th></th>\n",
       "      <th>Year</th>\n",
       "      <th>DOMESTIC</th>\n",
       "      <th>INTERNATIONAL</th>\n",
       "      <th>TOTAL</th>\n",
       "    </tr>\n",
       "  </thead>\n",
       "  <tbody>\n",
       "    <tr>\n",
       "      <th>0</th>\n",
       "      <td>2002</td>\n",
       "      <td>142589516</td>\n",
       "      <td>28633764</td>\n",
       "      <td>171223280</td>\n",
       "    </tr>\n",
       "    <tr>\n",
       "      <th>1</th>\n",
       "      <td>2003</td>\n",
       "      <td>583293766</td>\n",
       "      <td>117569855</td>\n",
       "      <td>700863621</td>\n",
       "    </tr>\n",
       "    <tr>\n",
       "      <th>2</th>\n",
       "      <td>2004</td>\n",
       "      <td>629769616</td>\n",
       "      <td>133940075</td>\n",
       "      <td>763709691</td>\n",
       "    </tr>\n",
       "    <tr>\n",
       "      <th>3</th>\n",
       "      <td>2005</td>\n",
       "      <td>657261487</td>\n",
       "      <td>143588422</td>\n",
       "      <td>800849909</td>\n",
       "    </tr>\n",
       "    <tr>\n",
       "      <th>4</th>\n",
       "      <td>2006</td>\n",
       "      <td>658362620</td>\n",
       "      <td>149740591</td>\n",
       "      <td>808103211</td>\n",
       "    </tr>\n",
       "    <tr>\n",
       "      <th>5</th>\n",
       "      <td>2007</td>\n",
       "      <td>679185450</td>\n",
       "      <td>156324972</td>\n",
       "      <td>835510422</td>\n",
       "    </tr>\n",
       "    <tr>\n",
       "      <th>6</th>\n",
       "      <td>2008</td>\n",
       "      <td>651710182</td>\n",
       "      <td>158111711</td>\n",
       "      <td>809821893</td>\n",
       "    </tr>\n",
       "    <tr>\n",
       "      <th>7</th>\n",
       "      <td>2009</td>\n",
       "      <td>618067255</td>\n",
       "      <td>149749333</td>\n",
       "      <td>767816588</td>\n",
       "    </tr>\n",
       "    <tr>\n",
       "      <th>8</th>\n",
       "      <td>2010</td>\n",
       "      <td>629537593</td>\n",
       "      <td>157940463</td>\n",
       "      <td>787478056</td>\n",
       "    </tr>\n",
       "    <tr>\n",
       "      <th>9</th>\n",
       "      <td>2011</td>\n",
       "      <td>638247667</td>\n",
       "      <td>163887126</td>\n",
       "      <td>802134793</td>\n",
       "    </tr>\n",
       "    <tr>\n",
       "      <th>10</th>\n",
       "      <td>2012</td>\n",
       "      <td>642289482</td>\n",
       "      <td>170833883</td>\n",
       "      <td>813123365</td>\n",
       "    </tr>\n",
       "    <tr>\n",
       "      <th>11</th>\n",
       "      <td>2013</td>\n",
       "      <td>645677554</td>\n",
       "      <td>179644509</td>\n",
       "      <td>825322063</td>\n",
       "    </tr>\n",
       "    <tr>\n",
       "      <th>12</th>\n",
       "      <td>2014</td>\n",
       "      <td>662826955</td>\n",
       "      <td>189022857</td>\n",
       "      <td>851849812</td>\n",
       "    </tr>\n",
       "    <tr>\n",
       "      <th>13</th>\n",
       "      <td>2015</td>\n",
       "      <td>696016894</td>\n",
       "      <td>200615008</td>\n",
       "      <td>896631902</td>\n",
       "    </tr>\n",
       "    <tr>\n",
       "      <th>14</th>\n",
       "      <td>2016</td>\n",
       "      <td>719996828</td>\n",
       "      <td>211992471</td>\n",
       "      <td>931989299</td>\n",
       "    </tr>\n",
       "    <tr>\n",
       "      <th>15</th>\n",
       "      <td>2017</td>\n",
       "      <td>741735098</td>\n",
       "      <td>223029847</td>\n",
       "      <td>964764945</td>\n",
       "    </tr>\n",
       "    <tr>\n",
       "      <th>16</th>\n",
       "      <td>2018</td>\n",
       "      <td>777972787</td>\n",
       "      <td>235239717</td>\n",
       "      <td>1013212504</td>\n",
       "    </tr>\n",
       "    <tr>\n",
       "      <th>17</th>\n",
       "      <td>2019</td>\n",
       "      <td>811545260</td>\n",
       "      <td>241435921</td>\n",
       "      <td>1052981181</td>\n",
       "    </tr>\n",
       "    <tr>\n",
       "      <th>18</th>\n",
       "      <td>2020</td>\n",
       "      <td>335607840</td>\n",
       "      <td>63047151</td>\n",
       "      <td>398654991</td>\n",
       "    </tr>\n",
       "    <tr>\n",
       "      <th>19</th>\n",
       "      <td>2021</td>\n",
       "      <td>605935323</td>\n",
       "      <td>94624181</td>\n",
       "      <td>700559504</td>\n",
       "    </tr>\n",
       "    <tr>\n",
       "      <th>20</th>\n",
       "      <td>2022</td>\n",
       "      <td>750535394</td>\n",
       "      <td>186751556</td>\n",
       "      <td>937286950</td>\n",
       "    </tr>\n",
       "    <tr>\n",
       "      <th>21</th>\n",
       "      <td>2023</td>\n",
       "      <td>323682643</td>\n",
       "      <td>89027911</td>\n",
       "      <td>412710554</td>\n",
       "    </tr>\n",
       "  </tbody>\n",
       "</table>\n",
       "</div>"
      ],
      "text/plain": [
       "    Year   DOMESTIC  INTERNATIONAL       TOTAL\n",
       "0   2002  142589516       28633764   171223280\n",
       "1   2003  583293766      117569855   700863621\n",
       "2   2004  629769616      133940075   763709691\n",
       "3   2005  657261487      143588422   800849909\n",
       "4   2006  658362620      149740591   808103211\n",
       "5   2007  679185450      156324972   835510422\n",
       "6   2008  651710182      158111711   809821893\n",
       "7   2009  618067255      149749333   767816588\n",
       "8   2010  629537593      157940463   787478056\n",
       "9   2011  638247667      163887126   802134793\n",
       "10  2012  642289482      170833883   813123365\n",
       "11  2013  645677554      179644509   825322063\n",
       "12  2014  662826955      189022857   851849812\n",
       "13  2015  696016894      200615008   896631902\n",
       "14  2016  719996828      211992471   931989299\n",
       "15  2017  741735098      223029847   964764945\n",
       "16  2018  777972787      235239717  1013212504\n",
       "17  2019  811545260      241435921  1052981181\n",
       "18  2020  335607840       63047151   398654991\n",
       "19  2021  605935323       94624181   700559504\n",
       "20  2022  750535394      186751556   937286950\n",
       "21  2023  323682643       89027911   412710554"
      ]
     },
     "execution_count": 95,
     "metadata": {},
     "output_type": "execute_result"
    }
   ],
   "source": [
    "grouped_df = df.groupby('Year')[['DOMESTIC','INTERNATIONAL', 'TOTAL']].sum().reset_index()\n",
    "grouped_df"
   ]
  },
  {
   "cell_type": "code",
   "execution_count": 96,
   "metadata": {},
   "outputs": [],
   "source": [
    "x = grouped_df['Year']\n",
    "y = grouped_df['TOTAL']"
   ]
  },
  {
   "cell_type": "code",
   "execution_count": 97,
   "metadata": {},
   "outputs": [
    {
     "data": {
      "image/png": "[encoded data removed]",
      "text/plain": [
       "<Figure size 720x432 with 1 Axes>"
      ]
     },
     "metadata": {
      "needs_background": "light"
     },
     "output_type": "display_data"
    }
   ],
   "source": [
    "# Create a bar plot\n",
    "plt.figure(figsize=(10, 6))\n",
    "plt.bar(x, y, color='b')\n",
    "plt.xlabel('Years', fontsize=18)\n",
    "plt.ylabel('Total Number of Passengers', fontsize=18)\n",
    "plt.title('Total Number of Passengers per Year', fontsize=18)\n",
    "plt.xticks(rotation=45)  #\n",
    "\n",
    "plt.grid(True)\n",
    "plt.tight_layout()"
   ]
  },
  {
   "cell_type": "code",
   "execution_count": 98,
   "metadata": {},
   "outputs": [
    {
     "data": {
      "image/png": "[encoded data removed]",
      "text/plain": [
       "<Figure size 720x432 with 1 Axes>"
      ]
     },
     "metadata": {
      "needs_background": "light"
     },
     "output_type": "display_data"
    }
   ],
   "source": [
    "plt.figure(figsize=(10,6))\n",
    "plt.plot(x,y, color = 'b')\n",
    "plt.xlabel('Years', fontsize=18)\n",
    "plt.ylabel('Total Number of Passengers', fontsize=18)\n",
    "plt.xticks(rotation =60)\n",
    "plt.show()"
   ]
  },
  {
   "cell_type": "code",
   "execution_count": 99,
   "metadata": {},
   "outputs": [],
   "source": [
    "domestic = grouped_df['DOMESTIC']\n",
    "international = grouped_df['INTERNATIONAL']\n",
    "total = grouped_df['TOTAL']"
   ]
  },
  {
   "cell_type": "code",
   "execution_count": 100,
   "metadata": {},
   "outputs": [
    {
     "data": {
      "image/png": "[encoded data removed]",
      "text/plain": [
       "<Figure size 720x432 with 1 Axes>"
      ]
     },
     "metadata": {
      "needs_background": "light"
     },
     "output_type": "display_data"
    }
   ],
   "source": [
    "# Create a bar plot for 'TOTAL' passengers\n",
    "plt.figure(figsize=(10, 6))\n",
    "plt.plot(x, total, color='b', label='Total Passengers')\n",
    "\n",
    "# Create line plots for 'DOMESTIC' and 'INTERNATIONAL' passengers\n",
    "plt.plot(x, domestic, marker='o', color='g', label='Domestic Passengers')\n",
    "plt.plot(x, international, marker='o', color='r', label='International Passengers')\n",
    "\n",
    "plt.xlabel('Years', fontsize=18)\n",
    "plt.ylabel('Number of Passengers', fontsize=18)\n",
    "plt.title('Passenger Analysis by Year', fontsize=18)\n",
    "plt.legend()  # Show legend for different lines\n",
    "plt.xticks(rotation=70, ha='right')\n",
    "plt.grid(True)\n",
    "plt.tight_layout()\n",
    "\n",
    "# Show the plot\n",
    "plt.show()"
   ]
  },
  {
   "cell_type": "code",
   "execution_count": null,
   "metadata": {},
   "outputs": [],
   "source": []
  }
 ],
 "metadata": {
  "kernelspec": {
   "display_name": "Python 3",
   "language": "python",
   "name": "python3"
  },
  "language_info": {
   "codemirror_mode": {
    "name": "ipython",
    "version": 3
   },
   "file_extension": ".py",
   "mimetype": "text/x-python",
   "name": "python",
   "nbconvert_exporter": "python",
   "pygments_lexer": "ipython3",
   "version": "3.10.11"
  },
  "orig_nbformat": 4
 },
 "nbformat": 4,
 "nbformat_minor": 2
}
